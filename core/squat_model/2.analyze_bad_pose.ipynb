{
 "cells": [
  {
   "cell_type": "code",
   "execution_count": 1,
   "metadata": {},
   "outputs": [],
   "source": [
    "import mediapipe as mp\n",
    "import cv2\n",
    "import numpy as np\n",
    "import pandas as pd\n",
    "import matplotlib.pyplot as plt\n",
    "import seaborn as sns\n",
    "\n",
    "import warnings\n",
    "warnings.filterwarnings('ignore')\n",
    "\n",
    "# Drawing helpers\n",
    "mp_drawing = mp.solutions.drawing_utils\n",
    "mp_pose = mp.solutions.pose"
   ]
  },
  {
   "cell_type": "markdown",
   "metadata": {},
   "source": [
    "### Analyze the width distance\n",
    "\n",
    "1. Extract keypoints of shoulder, foot and knee from the dataset\n",
    "1. Calculate shoulder width, 2 foot width and 2 knees width\n",
    "1. Calculate the ratio between those widths to figure out the correct feet placement and how much should the knee flare out during the workout"
   ]
  },
  {
   "cell_type": "code",
   "execution_count": 2,
   "metadata": {},
   "outputs": [],
   "source": [
    "from math import sqrt\n",
    "\n",
    "\n",
    "def rescale_frame(frame, percent=50):\n",
    "    '''\n",
    "    Rescale a frame to a certain percentage compare to its original frame\n",
    "    '''\n",
    "    width = int(frame.shape[1] * percent/ 100)\n",
    "    height = int(frame.shape[0] * percent/ 100)\n",
    "    dim = (width, height)\n",
    "    return cv2.resize(frame, dim, interpolation =cv2.INTER_AREA)\n",
    "\n",
    "\n",
    "def calculate_distance(pointX, pointY) -> float:\n",
    "    '''\n",
    "    Calculate a distance between 2 points\n",
    "    '''\n",
    "\n",
    "    x1, y1 = pointX\n",
    "    x2, y2 = pointY\n",
    "\n",
    "    return sqrt((x2 - x1) ** 2 + (y2 - y1) ** 2)"
   ]
  },
  {
   "cell_type": "code",
   "execution_count": 3,
   "metadata": {},
   "outputs": [
    {
     "data": {
      "text/html": [
       "<div>\n",
       "<style scoped>\n",
       "    .dataframe tbody tr th:only-of-type {\n",
       "        vertical-align: middle;\n",
       "    }\n",
       "\n",
       "    .dataframe tbody tr th {\n",
       "        vertical-align: top;\n",
       "    }\n",
       "\n",
       "    .dataframe thead th {\n",
       "        text-align: right;\n",
       "    }\n",
       "</style>\n",
       "<table border=\"1\" class=\"dataframe\">\n",
       "  <thead>\n",
       "    <tr style=\"text-align: right;\">\n",
       "      <th></th>\n",
       "      <th>video</th>\n",
       "      <th>stage</th>\n",
       "      <th>shoulder_width</th>\n",
       "      <th>feet_width</th>\n",
       "      <th>knee_width</th>\n",
       "    </tr>\n",
       "  </thead>\n",
       "  <tbody>\n",
       "  </tbody>\n",
       "</table>\n",
       "</div>"
      ],
      "text/plain": [
       "Empty DataFrame\n",
       "Columns: [video, stage, shoulder_width, feet_width, knee_width]\n",
       "Index: []"
      ]
     },
     "execution_count": 3,
     "metadata": {},
     "output_type": "execute_result"
    }
   ],
   "source": [
    "df = pd.DataFrame(columns=[\"video\", \"stage\", \"shoulder_width\", \"feet_width\", \"knee_width\"])\n",
    "\n",
    "df"
   ]
  },
  {
   "cell_type": "markdown",
   "metadata": {},
   "source": [
    "### 1. Extract data from video"
   ]
  },
  {
   "cell_type": "code",
   "execution_count": 4,
   "metadata": {},
   "outputs": [
    {
     "ename": "FileNotFoundError",
     "evalue": "[Errno 2] No such file or directory: './model/squat_model.pkl'",
     "output_type": "error",
     "traceback": [
      "\u001b[1;31m---------------------------------------------------------------------------\u001b[0m",
      "\u001b[1;31mFileNotFoundError\u001b[0m                         Traceback (most recent call last)",
      "Cell \u001b[1;32mIn[4], line 4\u001b[0m\n\u001b[0;32m      1\u001b[0m \u001b[38;5;66;03m# Load machine learning model\u001b[39;00m\n\u001b[0;32m      2\u001b[0m \u001b[38;5;28;01mimport\u001b[39;00m \u001b[38;5;21;01mpickle\u001b[39;00m\n\u001b[1;32m----> 4\u001b[0m \u001b[38;5;28;01mwith\u001b[39;00m \u001b[38;5;28;43mopen\u001b[39;49m\u001b[43m(\u001b[49m\u001b[38;5;124;43m\"\u001b[39;49m\u001b[38;5;124;43m./model/squat_model.pkl\u001b[39;49m\u001b[38;5;124;43m\"\u001b[39;49m\u001b[43m,\u001b[49m\u001b[43m \u001b[49m\u001b[38;5;124;43m\"\u001b[39;49m\u001b[38;5;124;43mrb\u001b[39;49m\u001b[38;5;124;43m\"\u001b[39;49m\u001b[43m)\u001b[49m \u001b[38;5;28;01mas\u001b[39;00m f:\n\u001b[0;32m      5\u001b[0m     trained_model \u001b[38;5;241m=\u001b[39m pickle\u001b[38;5;241m.\u001b[39mload(f)\n\u001b[0;32m      7\u001b[0m \u001b[38;5;66;03m# Prepare for processing input\u001b[39;00m\n",
      "File \u001b[1;32m~\\AppData\\Roaming\\Python\\Python312\\site-packages\\IPython\\core\\interactiveshell.py:324\u001b[0m, in \u001b[0;36m_modified_open\u001b[1;34m(file, *args, **kwargs)\u001b[0m\n\u001b[0;32m    317\u001b[0m \u001b[38;5;28;01mif\u001b[39;00m file \u001b[38;5;129;01min\u001b[39;00m {\u001b[38;5;241m0\u001b[39m, \u001b[38;5;241m1\u001b[39m, \u001b[38;5;241m2\u001b[39m}:\n\u001b[0;32m    318\u001b[0m     \u001b[38;5;28;01mraise\u001b[39;00m \u001b[38;5;167;01mValueError\u001b[39;00m(\n\u001b[0;32m    319\u001b[0m         \u001b[38;5;124mf\u001b[39m\u001b[38;5;124m\"\u001b[39m\u001b[38;5;124mIPython won\u001b[39m\u001b[38;5;124m'\u001b[39m\u001b[38;5;124mt let you open fd=\u001b[39m\u001b[38;5;132;01m{\u001b[39;00mfile\u001b[38;5;132;01m}\u001b[39;00m\u001b[38;5;124m by default \u001b[39m\u001b[38;5;124m\"\u001b[39m\n\u001b[0;32m    320\u001b[0m         \u001b[38;5;124m\"\u001b[39m\u001b[38;5;124mas it is likely to crash IPython. If you know what you are doing, \u001b[39m\u001b[38;5;124m\"\u001b[39m\n\u001b[0;32m    321\u001b[0m         \u001b[38;5;124m\"\u001b[39m\u001b[38;5;124myou can use builtins\u001b[39m\u001b[38;5;124m'\u001b[39m\u001b[38;5;124m open.\u001b[39m\u001b[38;5;124m\"\u001b[39m\n\u001b[0;32m    322\u001b[0m     )\n\u001b[1;32m--> 324\u001b[0m \u001b[38;5;28;01mreturn\u001b[39;00m \u001b[43mio_open\u001b[49m\u001b[43m(\u001b[49m\u001b[43mfile\u001b[49m\u001b[43m,\u001b[49m\u001b[43m \u001b[49m\u001b[38;5;241;43m*\u001b[39;49m\u001b[43margs\u001b[49m\u001b[43m,\u001b[49m\u001b[43m \u001b[49m\u001b[38;5;241;43m*\u001b[39;49m\u001b[38;5;241;43m*\u001b[39;49m\u001b[43mkwargs\u001b[49m\u001b[43m)\u001b[49m\n",
      "\u001b[1;31mFileNotFoundError\u001b[0m: [Errno 2] No such file or directory: './model/squat_model.pkl'"
     ]
    }
   ],
   "source": [
    "# Load machine learning model\n",
    "import pickle\n",
    "\n",
    "with open(\"./model/squat_model.pkl\", \"rb\") as f:\n",
    "    trained_model = pickle.load(f)\n",
    "\n",
    "# Prepare for processing input\n",
    "IMPORTANT_LMS = [\n",
    "    \"NOSE\",\n",
    "    \"LEFT_SHOULDER\",\n",
    "    \"RIGHT_SHOULDER\",\n",
    "    \"LEFT_HIP\",\n",
    "    \"RIGHT_HIP\",\n",
    "    \"LEFT_KNEE\",\n",
    "    \"RIGHT_KNEE\",\n",
    "    \"LEFT_ANKLE\",\n",
    "    \"RIGHT_ANKLE\"\n",
    "]\n",
    "\n",
    "headers = [\"label\"] # Label column\n",
    "\n",
    "for lm in IMPORTANT_LMS:\n",
    "    headers += [f\"{lm.lower()}_x\", f\"{lm.lower()}_y\", f\"{lm.lower()}_z\", f\"{lm.lower()}_v\"]\n",
    "\n",
    "\n",
    "def extract_important_keypoints(results) -> list:\n",
    "    '''\n",
    "    Extract important keypoints from mediapipe pose detection\n",
    "    '''\n",
    "    landmarks = results.pose_landmarks.landmark\n",
    "\n",
    "    data = []\n",
    "    for lm in IMPORTANT_LMS:\n",
    "        keypoint = landmarks[mp_pose.PoseLandmark[lm].value]\n",
    "        data.append([keypoint.x, keypoint.y, keypoint.z, keypoint.visibility])\n",
    "    \n",
    "    return np.array(data).flatten().tolist()"
   ]
  },
  {
   "cell_type": "code",
   "execution_count": 10,
   "metadata": {},
   "outputs": [],
   "source": [
    "video = \"squat_right_4.mp4\"\n",
    "cap = cv2.VideoCapture(f\"../data/squat/{video}\")\n",
    "\n",
    "current_stage = \"\"\n",
    "prediction_probability_threshold = 0.8\n",
    "\n",
    "with mp_pose.Pose(min_detection_confidence=0.5, min_tracking_confidence=0.5) as pose:\n",
    "    while cap.isOpened():\n",
    "        ret, image = cap.read()\n",
    "\n",
    "        if not ret:\n",
    "            break\n",
    "\n",
    "        # Recolor image from BGR to RGB for mediapipe\n",
    "        image = cv2.cvtColor(image, cv2.COLOR_BGR2RGB)\n",
    "        image.flags.writeable = False\n",
    "\n",
    "        results = pose.process(image)\n",
    "        # Calculate and compare the distance of 2 ankle and shoulder width\n",
    "        if not results.pose_landmarks:\n",
    "            continue\n",
    "        \n",
    "        # Recolor image from BGR to RGB for mediapipe\n",
    "        image.flags.writeable = True\n",
    "        image = cv2.cvtColor(image, cv2.COLOR_RGB2BGR)\n",
    "\n",
    "        shoulder_width = feet_width = None\n",
    "\n",
    "        try:\n",
    "            # Extract keypoints from frame for the input\n",
    "            row = extract_important_keypoints(results)\n",
    "            X = pd.DataFrame([row], columns=headers[1:])\n",
    "\n",
    "            # Make prediction and its probability\n",
    "            predicted_class = trained_model.predict(X)[0]\n",
    "            prediction_probability = trained_model.predict_proba(X)[0]\n",
    "\n",
    "            # Evaluate model prediction for the current stage\n",
    "            if prediction_probability[prediction_probability.argmax()] >= prediction_probability_threshold:\n",
    "                if predicted_class == \"down\":\n",
    "                    current_stage = \"down\"\n",
    "                elif current_stage == \"middle\" and predicted_class == \"up\":\n",
    "                    current_stage = \"up\"\n",
    "            else:\n",
    "                current_stage = \"middle\"\n",
    "            \n",
    "            # Calculate and compare the distance of 2 ankle and shoulder width\n",
    "            landmarks = results.pose_landmarks.landmark\n",
    "\n",
    "            # * Calculate shoulder width\n",
    "            left_shoulder = [landmarks[mp_pose.PoseLandmark.LEFT_SHOULDER.value].x, landmarks[mp_pose.PoseLandmark.LEFT_SHOULDER.value].y]\n",
    "            right_shoulder = [landmarks[mp_pose.PoseLandmark.RIGHT_SHOULDER.value].x, landmarks[mp_pose.PoseLandmark.RIGHT_SHOULDER.value].y]\n",
    "\n",
    "            shoulder_width = calculate_distance(left_shoulder, right_shoulder)\n",
    "\n",
    "            # * Calculate 2-foot width\n",
    "            left_foot_index = [landmarks[mp_pose.PoseLandmark.LEFT_FOOT_INDEX.value].x, landmarks[mp_pose.PoseLandmark.LEFT_FOOT_INDEX.value].y]\n",
    "            right_foot_index = [landmarks[mp_pose.PoseLandmark.RIGHT_FOOT_INDEX.value].x, landmarks[mp_pose.PoseLandmark.RIGHT_FOOT_INDEX.value].y]\n",
    "\n",
    "            feet_width = calculate_distance(left_foot_index, right_foot_index)\n",
    "            \n",
    "            # * Calculate 2-knee width\n",
    "            left_knee = [landmarks[mp_pose.PoseLandmark.LEFT_KNEE.value].x, landmarks[mp_pose.PoseLandmark.LEFT_KNEE.value].y]\n",
    "            right_knee = [landmarks[mp_pose.PoseLandmark.RIGHT_KNEE.value].x, landmarks[mp_pose.PoseLandmark.RIGHT_KNEE.value].y]\n",
    "\n",
    "            knee_width = calculate_distance(left_knee, right_knee)\n",
    "\n",
    "            # Visualization\n",
    "            # Status box\n",
    "            cv2.rectangle(image, (0, 0), (500, 60), (245, 117, 16), -1)\n",
    "\n",
    "            # Display feet distance\n",
    "            cv2.putText(image, \"FEET\", (15, 12), cv2.FONT_HERSHEY_COMPLEX, 0.5, (0, 0, 0), 1, cv2.LINE_AA)\n",
    "            cv2.putText(image, str(round(feet_width, 2)), (10, 40), cv2.FONT_HERSHEY_COMPLEX, 1, (255, 255, 255), 2, cv2.LINE_AA)\n",
    "\n",
    "            # Display shoulder distance\n",
    "            cv2.putText(image, \"SHOULDER\", (95, 12), cv2.FONT_HERSHEY_COMPLEX, 0.5, (0, 0, 0), 1, cv2.LINE_AA)\n",
    "            cv2.putText(image, str(round(shoulder_width, 2)), (90, 40), cv2.FONT_HERSHEY_COMPLEX, 1, (255, 255, 255), 2, cv2.LINE_AA)\n",
    "\n",
    "            # Display knee distance\n",
    "            cv2.putText(image, \"KNEE\", (205, 12), cv2.FONT_HERSHEY_COMPLEX, 0.5, (0, 0, 0), 1, cv2.LINE_AA)\n",
    "            cv2.putText(image, str(round(knee_width, 2)), (200, 40), cv2.FONT_HERSHEY_COMPLEX, 1, (255, 255, 255), 2, cv2.LINE_AA)\n",
    "\n",
    "            # Display knee distance\n",
    "            cv2.putText(image, \"STAGE\", (305, 12), cv2.FONT_HERSHEY_COMPLEX, 0.5, (0, 0, 0), 1, cv2.LINE_AA)\n",
    "            cv2.putText(image, current_stage, (300, 40), cv2.FONT_HERSHEY_COMPLEX, 1, (255, 255, 255), 2, cv2.LINE_AA)\n",
    "        except Exception as e:\n",
    "            print(f\"Error: {e}\")\n",
    "\n",
    "        # Draw landmarks and connections\n",
    "        mp_drawing.draw_landmarks(image, results.pose_landmarks, mp_pose.POSE_CONNECTIONS, mp_drawing.DrawingSpec(color=(244, 117, 66), thickness=2, circle_radius=4), mp_drawing.DrawingSpec(color=(245, 66, 230), thickness=2, circle_radius=2))\n",
    "\n",
    "        cv2.imshow(\"CV2\", image)\n",
    "\n",
    "        # Pressed key for action\n",
    "        k = cv2.waitKey(1) & 0xFF\n",
    "\n",
    "        # Press C to add to df\n",
    "        if k == ord('c'): \n",
    "            df = df.append({ \"video\": video, \"stage\": current_stage, \"shoulder_width\": shoulder_width, \"feet_width\": feet_width, \"knee_width\": knee_width }, ignore_index=True)\n",
    "\n",
    "        # Press q to stop\n",
    "        elif k == ord(\"q\"):\n",
    "            break\n",
    "        else: continue\n",
    "\n",
    "    cap.release()\n",
    "    cv2.destroyAllWindows()\n",
    "\n",
    "    # (Optional)Fix bugs cannot close windows in MacOS (https://stackoverflow.com/questions/6116564/destroywindow-does-not-close-window-on-mac-using-python-and-opencv)\n",
    "    for i in range (1, 5):\n",
    "        cv2.waitKey(1)"
   ]
  },
  {
   "cell_type": "code",
   "execution_count": null,
   "metadata": {},
   "outputs": [],
   "source": [
    "df"
   ]
  },
  {
   "cell_type": "markdown",
   "metadata": {},
   "source": [
    "### 2. Analyze the foot placement relate to the shoulder width"
   ]
  },
  {
   "cell_type": "code",
   "execution_count": null,
   "metadata": {},
   "outputs": [],
   "source": [
    "df[\"ratio_feet_shoulder\"] = df[\"feet_width\"] / df[\"shoulder_width\"]\n",
    "\n",
    "# Round up the value\n",
    "# df[\"ratio_feet_shoulder\"] = [round(row, 1) for row in df[\"ratio_feet_shoulder\"]]\n",
    "\n",
    "df.head(5)"
   ]
  },
  {
   "cell_type": "markdown",
   "metadata": {},
   "source": [
    "#### 2.1. Describe data"
   ]
  },
  {
   "cell_type": "code",
   "execution_count": null,
   "metadata": {},
   "outputs": [],
   "source": [
    "mean = df[\"ratio_feet_shoulder\"].mean(axis=0)\n",
    "min_val = df[\"ratio_feet_shoulder\"].min()\n",
    "max_val = df[\"ratio_feet_shoulder\"].max()\n",
    "\n",
    "print(\n",
    "f'''\n",
    "Mean value of the ratio between shoulder width and 2 foot: {mean}\n",
    "Max value of the ratio between shoulder width and 2 foot: {max_val}\n",
    "Min value of the ratio between shoulder width and 2 foot: {min_val}\n",
    "'''\n",
    ")\n"
   ]
  },
  {
   "cell_type": "markdown",
   "metadata": {},
   "source": [
    "#### 2.2 Conclusion\n",
    "\n",
    "According to the analyzed data extracted from the dataset:\n",
    "\n",
    "1. Feet distance usually wider compare to shoulder distance\n",
    "1. The mean ratio between the 2 is 1.8\n",
    "1. **Conclusion**:\n",
    "    - Feet distance / shoulder width < 1.2 => **Foot placement is too tight**\n",
    "    - Feet distance / shoulder width > 2.8 => **Foot placement is too wide**\n",
    "    - Else: => **Correct form**"
   ]
  },
  {
   "cell_type": "markdown",
   "metadata": {},
   "source": [
    "### 3. Analyze knee position during the workout"
   ]
  },
  {
   "cell_type": "code",
   "execution_count": null,
   "metadata": {},
   "outputs": [],
   "source": [
    "df[\"ratio_knee_feet\"] = df[\"knee_width\"] / df[\"feet_width\"]\n",
    "# df[\"ratio_knee_feet\"] = [round(row, 1) for row in df[\"ratio_knee_feet\"]] # round up\n",
    "\n",
    "df.head(5)"
   ]
  },
  {
   "cell_type": "markdown",
   "metadata": {},
   "source": [
    "#### 3.1 Describe and analyze data\n",
    "\n",
    "There are 3 stages of a squat to analyze: UP, MIDDLE, DOWN"
   ]
  },
  {
   "cell_type": "code",
   "execution_count": null,
   "metadata": {},
   "outputs": [],
   "source": [
    "mean = df[\"ratio_knee_feet\"].mean(axis=0)\n",
    "min_val = df[\"ratio_knee_feet\"].min()\n",
    "max_val = df[\"ratio_knee_feet\"].max()\n",
    "\n",
    "print(\n",
    "f'''\n",
    "Mean value of the ratio between 2 knee width and 2 foot: {mean}\n",
    "Max value of the ratio between 2 knee width and 2 foot: {max_val}\n",
    "Min value of the ratio between 2 knee width and 2 foot: {min_val}\n",
    "'''\n",
    ")"
   ]
  },
  {
   "cell_type": "markdown",
   "metadata": {},
   "source": [
    "**UP position**"
   ]
  },
  {
   "cell_type": "code",
   "execution_count": null,
   "metadata": {},
   "outputs": [],
   "source": [
    "df_ration_knee_feet = df[ df[\"stage\"] == \"up\" ][\"ratio_knee_feet\"]\n",
    "\n",
    "mean = df_ration_knee_feet.mean(axis=0)\n",
    "min_val = df_ration_knee_feet.min()\n",
    "max_val = df_ration_knee_feet.max()\n",
    "\n",
    "print(\n",
    "f'''\n",
    "Mean value of the ratio between 2 knee width and 2 foot in UP position: {mean}\n",
    "Max value of the ratio between 2 knee width and 2 foot in UP position: {max_val}\n",
    "Min value of the ratio between 2 knee width and 2 foot in UP position: {min_val}\n",
    "'''\n",
    ")"
   ]
  },
  {
   "cell_type": "markdown",
   "metadata": {},
   "source": [
    "**MIDDLE position**"
   ]
  },
  {
   "cell_type": "code",
   "execution_count": null,
   "metadata": {},
   "outputs": [],
   "source": [
    "df_ration_knee_feet = df[ df[\"stage\"] == \"middle\" ][\"ratio_knee_feet\"]\n",
    "\n",
    "mean = df_ration_knee_feet.mean(axis=0)\n",
    "min_val = df_ration_knee_feet.min()\n",
    "max_val = df_ration_knee_feet.max()\n",
    "\n",
    "print(\n",
    "f'''\n",
    "Mean value of the ratio between 2 knee width and 2 foot in MIDDLE position: {mean}\n",
    "Max value of the ratio between 2 knee width and 2 foot in MIDDLE position: {max_val}\n",
    "Min value of the ratio between 2 knee width and 2 foot in MIDDLE position: {min_val}\n",
    "'''\n",
    ")"
   ]
  },
  {
   "cell_type": "markdown",
   "metadata": {},
   "source": [
    "**DOWN position**"
   ]
  },
  {
   "cell_type": "code",
   "execution_count": null,
   "metadata": {},
   "outputs": [],
   "source": [
    "df_ration_knee_feet = df[ df[\"stage\"] == \"down\" ][\"ratio_knee_feet\"]\n",
    "\n",
    "mean = df_ration_knee_feet.mean(axis=0)\n",
    "min_val = df_ration_knee_feet.min()\n",
    "max_val = df_ration_knee_feet.max()\n",
    "\n",
    "print(\n",
    "f'''\n",
    "Mean value of the ratio between 2 knee width and 2 foot in DOWN position: {mean}\n",
    "Max value of the ratio between 2 knee width and 2 foot in DOWN position: {max_val}\n",
    "Min value of the ratio between 2 knee width and 2 foot in DOWN position: {min_val}\n",
    "'''\n",
    ")"
   ]
  },
  {
   "cell_type": "code",
   "execution_count": null,
   "metadata": {},
   "outputs": [],
   "source": [
    "test = df[ (df[\"ratio_knee_feet\"] == 0.7) & (df[\"stage\"] == \"down\") ]\n",
    "test\n",
    "\n",
    "# df = df[ (df[\"ratio_knee_feet\"] != 0.4) ]"
   ]
  },
  {
   "cell_type": "markdown",
   "metadata": {},
   "source": [
    "#### 3.2 Conclusion\n",
    "\n",
    "According to the analyzed data extracted from the dataset:\n",
    "\n",
    "- In **UP** position:\n",
    "    1. Knee distance usually tighter compare to foot distance\n",
    "    1. The mean ratio between knee/foot is 0.63\n",
    "    1. **Conclusion**:\n",
    "        - Knee distance / foot width < 0.5 => **2 Knees are too tight**\n",
    "        - Knee distance / foot width > 1.0 => **2 Knees are too wide**\n",
    "        - Else: => **Correct form**\n",
    "\n",
    "- In **MIDDLE** position:\n",
    "    1. Knee distance usually equals compare to foot distance\n",
    "    1. The mean ratio between knee/foot is 0.8\n",
    "    1. **Conclusion**:\n",
    "        - Knee distance / foot width < 0.7 => **2 Knees are too tight**\n",
    "        - Knee distance / foot width > 1.0 => **2 Knees are too wide**\n",
    "        - Else: => **Correct form**\n",
    "\n",
    "- In **DOWN** position:\n",
    "    1. Knee distance usually equals or a little bit wider compare to foot distance\n",
    "    1. The mean ratio between knee/foot is 0.8\n",
    "    1. **Conclusion**:\n",
    "        - Knee distance / foot width < 0.7 => **2 Knees are too tight**\n",
    "        - Knee distance / foot width > 1.1 => **2 Knees are too wide**\n",
    "        - Else: => **Correct form**"
   ]
  },
  {
   "cell_type": "markdown",
   "metadata": {},
   "source": [
    "### 4. Save Analysis CSV"
   ]
  },
  {
   "cell_type": "code",
   "execution_count": 34,
   "metadata": {},
   "outputs": [],
   "source": [
    "df.to_csv(\"./analyze_pose.csv\", sep=',', encoding='utf-8', index=False)"
   ]
  },
  {
   "cell_type": "code",
   "execution_count": 7,
   "metadata": {},
   "outputs": [],
   "source": [
    "df = pd.read_csv(\"./analyze_pose.csv\")\n",
    "df = df.reset_index()"
   ]
  },
  {
   "cell_type": "code",
   "execution_count": null,
   "metadata": {},
   "outputs": [],
   "source": [
    "df.head(10)\n",
    "df.describe()"
   ]
  },
  {
   "cell_type": "code",
   "execution_count": null,
   "metadata": {},
   "outputs": [],
   "source": [
    "# Set Theme:\n",
    "sns.set_style('whitegrid')\n",
    "\n",
    "# Creating Strip plot for day-wise revenue:\n",
    "sns.swarmplot(y=\"ratio_feet_shoulder\", data=df, palette=\"viridis\")"
   ]
  },
  {
   "cell_type": "code",
   "execution_count": null,
   "metadata": {},
   "outputs": [],
   "source": [
    "# Set Theme:\n",
    "sns.set_style('whitegrid')\n",
    "\n",
    "# Creating Strip plot for day-wise revenue:\n",
    "sns.swarmplot(x='stage', y=\"ratio_knee_feet\", data=df, palette=\"viridis\")"
   ]
  },
  {
   "cell_type": "code",
   "execution_count": null,
   "metadata": {},
   "outputs": [],
   "source": []
  }
 ],
 "metadata": {
  "kernelspec": {
   "display_name": "Python 3",
   "language": "python",
   "name": "python3"
  },
  "language_info": {
   "codemirror_mode": {
    "name": "ipython",
    "version": 3
   },
   "file_extension": ".py",
   "mimetype": "text/x-python",
   "name": "python",
   "nbconvert_exporter": "python",
   "pygments_lexer": "ipython3",
   "version": "3.12.3"
  },
  "orig_nbformat": 4
 },
 "nbformat": 4,
 "nbformat_minor": 2
}
